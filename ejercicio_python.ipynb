{
 "cells": [
  {
   "cell_type": "code",
   "execution_count": 2,
   "metadata": {
    "collapsed": true
   },
   "outputs": [],
   "source": [
    "# Se importan las librerías necesarias\n",
    "import pandas as pd\n",
    "import numpy as np\n",
    "import matplotlib.pyplot as plt\n",
    "import seaborn as sns\n",
    "\n",
    "#Se especifica la localización de los graficos en los contenedores\n",
    "%matplotlib inline\n",
    "\n",
    "# Se carga el fichero\n",
    "tweets = pd.read_json('./datos_TW/_UEMC_M4.json')\n"
   ]
  },
  {
   "cell_type": "code",
   "execution_count": 3,
   "metadata": {},
   "outputs": [
    {
     "data": {
      "text/html": [
       "<div>\n",
       "<style>\n",
       "    .dataframe thead tr:only-child th {\n",
       "        text-align: right;\n",
       "    }\n",
       "\n",
       "    .dataframe thead th {\n",
       "        text-align: left;\n",
       "    }\n",
       "\n",
       "    .dataframe tbody tr th {\n",
       "        vertical-align: top;\n",
       "    }\n",
       "</style>\n",
       "<table border=\"1\" class=\"dataframe\">\n",
       "  <thead>\n",
       "    <tr style=\"text-align: right;\">\n",
       "      <th></th>\n",
       "      <th>contador_caracteres</th>\n",
       "      <th>contador_palabras</th>\n",
       "      <th>creado</th>\n",
       "      <th>fuentes</th>\n",
       "      <th>localizacion</th>\n",
       "      <th>seguidores</th>\n",
       "      <th>texto</th>\n",
       "      <th>usuario</th>\n",
       "    </tr>\n",
       "  </thead>\n",
       "  <tbody>\n",
       "    <tr>\n",
       "      <th>0</th>\n",
       "      <td>139</td>\n",
       "      <td>14</td>\n",
       "      <td>Mon Dec 25 23:43:15 +0000 2017</td>\n",
       "      <td>&lt;a href=\"http://twitter.com\" rel=\"nofollow\"&gt;Tw...</td>\n",
       "      <td>United States</td>\n",
       "      <td>1054</td>\n",
       "      <td>RT @precisionclass: Distributing control of #D...</td>\n",
       "      <td>EntrepreneurEva</td>\n",
       "    </tr>\n",
       "    <tr>\n",
       "      <th>1</th>\n",
       "      <td>96</td>\n",
       "      <td>13</td>\n",
       "      <td>Mon Dec 25 23:43:15 +0000 2017</td>\n",
       "      <td>&lt;a href=\"http://twitter.com/download/android\" ...</td>\n",
       "      <td>South korea</td>\n",
       "      <td>126</td>\n",
       "      <td>RT @thelorddlee: Check out 'Nasty' by Davon D....</td>\n",
       "      <td>hjtop83</td>\n",
       "    </tr>\n",
       "    <tr>\n",
       "      <th>2</th>\n",
       "      <td>111</td>\n",
       "      <td>11</td>\n",
       "      <td>Mon Dec 25 23:43:15 +0000 2017</td>\n",
       "      <td>&lt;a href=\"https://ifttt.com\" rel=\"nofollow\"&gt;IFT...</td>\n",
       "      <td>None</td>\n",
       "      <td>600</td>\n",
       "      <td>【LSK】ビットフライヤー上場の噂はソースがなくガセらしい。 https://t.co/oh...</td>\n",
       "      <td>bitcoinfinancen</td>\n",
       "    </tr>\n",
       "    <tr>\n",
       "      <th>3</th>\n",
       "      <td>138</td>\n",
       "      <td>20</td>\n",
       "      <td>Mon Dec 25 23:43:16 +0000 2017</td>\n",
       "      <td>&lt;a href=\"http://twitter.com/download/iphone\" r...</td>\n",
       "      <td>London, England</td>\n",
       "      <td>2230</td>\n",
       "      <td>RT @Coinfirm_io: A Xmas review of our @AMLT_To...</td>\n",
       "      <td>TeamBlockchain</td>\n",
       "    </tr>\n",
       "    <tr>\n",
       "      <th>4</th>\n",
       "      <td>140</td>\n",
       "      <td>14</td>\n",
       "      <td>Mon Dec 25 23:43:16 +0000 2017</td>\n",
       "      <td>&lt;a href=\"http://twitter.com/download/android\" ...</td>\n",
       "      <td>None</td>\n",
       "      <td>0</td>\n",
       "      <td>RT @craigbrownphd: #FinTech #DeepLearning #Clo...</td>\n",
       "      <td>carylonbadawi11</td>\n",
       "    </tr>\n",
       "  </tbody>\n",
       "</table>\n",
       "</div>"
      ],
      "text/plain": [
       "   contador_caracteres  contador_palabras                          creado  \\\n",
       "0                  139                 14  Mon Dec 25 23:43:15 +0000 2017   \n",
       "1                   96                 13  Mon Dec 25 23:43:15 +0000 2017   \n",
       "2                  111                 11  Mon Dec 25 23:43:15 +0000 2017   \n",
       "3                  138                 20  Mon Dec 25 23:43:16 +0000 2017   \n",
       "4                  140                 14  Mon Dec 25 23:43:16 +0000 2017   \n",
       "\n",
       "                                             fuentes     localizacion  \\\n",
       "0  <a href=\"http://twitter.com\" rel=\"nofollow\">Tw...    United States   \n",
       "1  <a href=\"http://twitter.com/download/android\" ...      South korea   \n",
       "2  <a href=\"https://ifttt.com\" rel=\"nofollow\">IFT...             None   \n",
       "3  <a href=\"http://twitter.com/download/iphone\" r...  London, England   \n",
       "4  <a href=\"http://twitter.com/download/android\" ...             None   \n",
       "\n",
       "   seguidores                                              texto  \\\n",
       "0        1054  RT @precisionclass: Distributing control of #D...   \n",
       "1         126  RT @thelorddlee: Check out 'Nasty' by Davon D....   \n",
       "2         600  【LSK】ビットフライヤー上場の噂はソースがなくガセらしい。 https://t.co/oh...   \n",
       "3        2230  RT @Coinfirm_io: A Xmas review of our @AMLT_To...   \n",
       "4           0  RT @craigbrownphd: #FinTech #DeepLearning #Clo...   \n",
       "\n",
       "           usuario  \n",
       "0  EntrepreneurEva  \n",
       "1          hjtop83  \n",
       "2  bitcoinfinancen  \n",
       "3   TeamBlockchain  \n",
       "4  carylonbadawi11  "
      ]
     },
     "execution_count": 3,
     "metadata": {},
     "output_type": "execute_result"
    }
   ],
   "source": [
    "# Vemos una pequeña muestra para ver que se ha cargado el fichero\n",
    "tweets.head(5)"
   ]
  },
  {
   "cell_type": "code",
   "execution_count": 4,
   "metadata": {
    "collapsed": true
   },
   "outputs": [],
   "source": [
    "# Se crea el campo hora y el campo Booleano para saber si es un RT\n",
    "tweets.creado = pd.to_datetime(tweets.creado)\n",
    "tweets['hour'] = tweets.creado.dt.hour\n",
    "tweets['RT'] = tweets.apply(lambda x: 'RT' in x['texto'], axis=1)\n",
    "\n",
    "# Se extraen los hashtags\n",
    "def hash_set(texto):\n",
    "    if '#Blockchain' in texto:\n",
    "        return 'Blockchain'\n",
    "    elif '#Bitcoin' in texto:\n",
    "        return 'Bitcoin'\n",
    "    elif '#Stocks' in texto:\n",
    "        return 'Stocks'\n",
    "    elif '#Cryptomoneda' in texto:\n",
    "        return 'Cryptomoneda'\n",
    "    elif '#Coinbase' in texto:\n",
    "        return 'Coinbase'\n",
    "    elif '#Ethereum' in texto:\n",
    "        return 'Ethereum'\n",
    "    else:\n",
    "        return '---'\n",
    "    \n",
    "tweets['hashtag'] = tweets.texto.apply(func = hash_set)"
   ]
  },
  {
   "cell_type": "code",
   "execution_count": 5,
   "metadata": {},
   "outputs": [
    {
     "data": {
      "text/html": [
       "<div>\n",
       "<style>\n",
       "    .dataframe thead tr:only-child th {\n",
       "        text-align: right;\n",
       "    }\n",
       "\n",
       "    .dataframe thead th {\n",
       "        text-align: left;\n",
       "    }\n",
       "\n",
       "    .dataframe tbody tr th {\n",
       "        vertical-align: top;\n",
       "    }\n",
       "</style>\n",
       "<table border=\"1\" class=\"dataframe\">\n",
       "  <thead>\n",
       "    <tr style=\"text-align: right;\">\n",
       "      <th></th>\n",
       "      <th>contador_caracteres</th>\n",
       "      <th>contador_palabras</th>\n",
       "      <th>creado</th>\n",
       "      <th>fuentes</th>\n",
       "      <th>localizacion</th>\n",
       "      <th>seguidores</th>\n",
       "      <th>texto</th>\n",
       "      <th>usuario</th>\n",
       "      <th>hour</th>\n",
       "      <th>RT</th>\n",
       "      <th>hashtag</th>\n",
       "    </tr>\n",
       "  </thead>\n",
       "  <tbody>\n",
       "    <tr>\n",
       "      <th>0</th>\n",
       "      <td>139</td>\n",
       "      <td>14</td>\n",
       "      <td>2017-12-25 23:43:15</td>\n",
       "      <td>&lt;a href=\"http://twitter.com\" rel=\"nofollow\"&gt;Tw...</td>\n",
       "      <td>United States</td>\n",
       "      <td>1054</td>\n",
       "      <td>RT @precisionclass: Distributing control of #D...</td>\n",
       "      <td>EntrepreneurEva</td>\n",
       "      <td>23</td>\n",
       "      <td>True</td>\n",
       "      <td>---</td>\n",
       "    </tr>\n",
       "    <tr>\n",
       "      <th>1</th>\n",
       "      <td>96</td>\n",
       "      <td>13</td>\n",
       "      <td>2017-12-25 23:43:15</td>\n",
       "      <td>&lt;a href=\"http://twitter.com/download/android\" ...</td>\n",
       "      <td>South korea</td>\n",
       "      <td>126</td>\n",
       "      <td>RT @thelorddlee: Check out 'Nasty' by Davon D....</td>\n",
       "      <td>hjtop83</td>\n",
       "      <td>23</td>\n",
       "      <td>True</td>\n",
       "      <td>---</td>\n",
       "    </tr>\n",
       "    <tr>\n",
       "      <th>2</th>\n",
       "      <td>111</td>\n",
       "      <td>11</td>\n",
       "      <td>2017-12-25 23:43:15</td>\n",
       "      <td>&lt;a href=\"https://ifttt.com\" rel=\"nofollow\"&gt;IFT...</td>\n",
       "      <td>None</td>\n",
       "      <td>600</td>\n",
       "      <td>【LSK】ビットフライヤー上場の噂はソースがなくガセらしい。 https://t.co/oh...</td>\n",
       "      <td>bitcoinfinancen</td>\n",
       "      <td>23</td>\n",
       "      <td>False</td>\n",
       "      <td>---</td>\n",
       "    </tr>\n",
       "    <tr>\n",
       "      <th>3</th>\n",
       "      <td>138</td>\n",
       "      <td>20</td>\n",
       "      <td>2017-12-25 23:43:16</td>\n",
       "      <td>&lt;a href=\"http://twitter.com/download/iphone\" r...</td>\n",
       "      <td>London, England</td>\n",
       "      <td>2230</td>\n",
       "      <td>RT @Coinfirm_io: A Xmas review of our @AMLT_To...</td>\n",
       "      <td>TeamBlockchain</td>\n",
       "      <td>23</td>\n",
       "      <td>True</td>\n",
       "      <td>---</td>\n",
       "    </tr>\n",
       "    <tr>\n",
       "      <th>4</th>\n",
       "      <td>140</td>\n",
       "      <td>14</td>\n",
       "      <td>2017-12-25 23:43:16</td>\n",
       "      <td>&lt;a href=\"http://twitter.com/download/android\" ...</td>\n",
       "      <td>None</td>\n",
       "      <td>0</td>\n",
       "      <td>RT @craigbrownphd: #FinTech #DeepLearning #Clo...</td>\n",
       "      <td>carylonbadawi11</td>\n",
       "      <td>23</td>\n",
       "      <td>True</td>\n",
       "      <td>---</td>\n",
       "    </tr>\n",
       "  </tbody>\n",
       "</table>\n",
       "</div>"
      ],
      "text/plain": [
       "   contador_caracteres  contador_palabras              creado  \\\n",
       "0                  139                 14 2017-12-25 23:43:15   \n",
       "1                   96                 13 2017-12-25 23:43:15   \n",
       "2                  111                 11 2017-12-25 23:43:15   \n",
       "3                  138                 20 2017-12-25 23:43:16   \n",
       "4                  140                 14 2017-12-25 23:43:16   \n",
       "\n",
       "                                             fuentes     localizacion  \\\n",
       "0  <a href=\"http://twitter.com\" rel=\"nofollow\">Tw...    United States   \n",
       "1  <a href=\"http://twitter.com/download/android\" ...      South korea   \n",
       "2  <a href=\"https://ifttt.com\" rel=\"nofollow\">IFT...             None   \n",
       "3  <a href=\"http://twitter.com/download/iphone\" r...  London, England   \n",
       "4  <a href=\"http://twitter.com/download/android\" ...             None   \n",
       "\n",
       "   seguidores                                              texto  \\\n",
       "0        1054  RT @precisionclass: Distributing control of #D...   \n",
       "1         126  RT @thelorddlee: Check out 'Nasty' by Davon D....   \n",
       "2         600  【LSK】ビットフライヤー上場の噂はソースがなくガセらしい。 https://t.co/oh...   \n",
       "3        2230  RT @Coinfirm_io: A Xmas review of our @AMLT_To...   \n",
       "4           0  RT @craigbrownphd: #FinTech #DeepLearning #Clo...   \n",
       "\n",
       "           usuario  hour     RT hashtag  \n",
       "0  EntrepreneurEva    23   True     ---  \n",
       "1          hjtop83    23   True     ---  \n",
       "2  bitcoinfinancen    23  False     ---  \n",
       "3   TeamBlockchain    23   True     ---  \n",
       "4  carylonbadawi11    23   True     ---  "
      ]
     },
     "execution_count": 5,
     "metadata": {},
     "output_type": "execute_result"
    }
   ],
   "source": [
    "# Vemos una pequeña muestra para ver que se ha cargado el fichero\n",
    "tweets.head(5)"
   ]
  },
  {
   "cell_type": "code",
   "execution_count": 6,
   "metadata": {
    "collapsed": true
   },
   "outputs": [],
   "source": [
    "# Se extraen las fuentes\n",
    "def hash_set(fuentes):\n",
    "    if 'rel=\\\"nofollow\\\">IFTTT<' in fuentes:\n",
    "        return 'IFTTT'\n",
    "    elif 'rel=\\\"nofollow\\\">Twitter Web Client<' in fuentes:\n",
    "        return 'Cliente Web'\n",
    "    elif 'rel=\\\"nofollow\\\">Twitter for Android<' in fuentes:\n",
    "        return 'Android'\n",
    "    elif 'rel=\\\"nofollow\\\">Twitter for Mac<' in fuentes:\n",
    "        return 'Mac'\n",
    "    elif 'rel=\\\"nofollow\\\">Twitter Lite<' in fuentes:\n",
    "        return 'Movil/Ipad'\n",
    "    elif 'rel=\\\"nofollow\\\">Twitter for BlackBerry<' in fuentes:\n",
    "        return 'BlackBerry'\n",
    "    elif 'rel=\\\"nofollow\\\">Twitter for iPhone<' in fuentes:\n",
    "        return 'iPhone'\n",
    "    elif 'Paper.li' in fuentes:\n",
    "        return 'Paper.li'\n",
    "    else:\n",
    "        return 'Otros'\n",
    "    \n",
    "tweets['dispositivo'] = tweets.fuentes.apply(func = hash_set)"
   ]
  },
  {
   "cell_type": "code",
   "execution_count": 7,
   "metadata": {},
   "outputs": [
    {
     "data": {
      "text/html": [
       "<div>\n",
       "<style>\n",
       "    .dataframe thead tr:only-child th {\n",
       "        text-align: right;\n",
       "    }\n",
       "\n",
       "    .dataframe thead th {\n",
       "        text-align: left;\n",
       "    }\n",
       "\n",
       "    .dataframe tbody tr th {\n",
       "        vertical-align: top;\n",
       "    }\n",
       "</style>\n",
       "<table border=\"1\" class=\"dataframe\">\n",
       "  <thead>\n",
       "    <tr style=\"text-align: right;\">\n",
       "      <th></th>\n",
       "      <th>contador_caracteres</th>\n",
       "      <th>contador_palabras</th>\n",
       "      <th>seguidores</th>\n",
       "      <th>hour</th>\n",
       "    </tr>\n",
       "  </thead>\n",
       "  <tbody>\n",
       "    <tr>\n",
       "      <th>count</th>\n",
       "      <td>57520.000000</td>\n",
       "      <td>57520.000000</td>\n",
       "      <td>5.752000e+04</td>\n",
       "      <td>57520.000000</td>\n",
       "    </tr>\n",
       "    <tr>\n",
       "      <th>mean</th>\n",
       "      <td>129.333727</td>\n",
       "      <td>16.595167</td>\n",
       "      <td>4.886965e+03</td>\n",
       "      <td>4.173331</td>\n",
       "    </tr>\n",
       "    <tr>\n",
       "      <th>std</th>\n",
       "      <td>21.846588</td>\n",
       "      <td>4.801009</td>\n",
       "      <td>4.135458e+04</td>\n",
       "      <td>4.284815</td>\n",
       "    </tr>\n",
       "    <tr>\n",
       "      <th>min</th>\n",
       "      <td>8.000000</td>\n",
       "      <td>1.000000</td>\n",
       "      <td>0.000000e+00</td>\n",
       "      <td>0.000000</td>\n",
       "    </tr>\n",
       "    <tr>\n",
       "      <th>25%</th>\n",
       "      <td>131.000000</td>\n",
       "      <td>14.000000</td>\n",
       "      <td>1.160000e+02</td>\n",
       "      <td>2.000000</td>\n",
       "    </tr>\n",
       "    <tr>\n",
       "      <th>50%</th>\n",
       "      <td>140.000000</td>\n",
       "      <td>17.000000</td>\n",
       "      <td>8.310000e+02</td>\n",
       "      <td>4.000000</td>\n",
       "    </tr>\n",
       "    <tr>\n",
       "      <th>75%</th>\n",
       "      <td>140.000000</td>\n",
       "      <td>20.000000</td>\n",
       "      <td>1.777000e+03</td>\n",
       "      <td>6.000000</td>\n",
       "    </tr>\n",
       "    <tr>\n",
       "      <th>max</th>\n",
       "      <td>158.000000</td>\n",
       "      <td>32.000000</td>\n",
       "      <td>2.879187e+06</td>\n",
       "      <td>23.000000</td>\n",
       "    </tr>\n",
       "  </tbody>\n",
       "</table>\n",
       "</div>"
      ],
      "text/plain": [
       "       contador_caracteres  contador_palabras    seguidores          hour\n",
       "count         57520.000000       57520.000000  5.752000e+04  57520.000000\n",
       "mean            129.333727          16.595167  4.886965e+03      4.173331\n",
       "std              21.846588           4.801009  4.135458e+04      4.284815\n",
       "min               8.000000           1.000000  0.000000e+00      0.000000\n",
       "25%             131.000000          14.000000  1.160000e+02      2.000000\n",
       "50%             140.000000          17.000000  8.310000e+02      4.000000\n",
       "75%             140.000000          20.000000  1.777000e+03      6.000000\n",
       "max             158.000000          32.000000  2.879187e+06     23.000000"
      ]
     },
     "execution_count": 7,
     "metadata": {},
     "output_type": "execute_result"
    }
   ],
   "source": [
    "# Se observan estadísticas del DataFrame\n",
    "tweets.describe()"
   ]
  },
  {
   "cell_type": "code",
   "execution_count": 9,
   "metadata": {},
   "outputs": [
    {
     "name": "stdout",
     "output_type": "stream",
     "text": [
      "La longitud max de los tweets es: 32 caracteres\n"
     ]
    }
   ],
   "source": [
    "# Función para saber el número máximo de caracteres\n",
    "def long_max(self):\n",
    "    \"\"\"\n",
    "    Método para obtener la media de la longitud de los tweets\n",
    "    :return: valor medio del total de palabras\n",
    "    \"\"\"\n",
    "    maxi = np.max(tweets['contador_palabras'])\n",
    "    print('La longitud max de los tweets es: {:.0f} caracteres'\n",
    "          .format(maxi))\n",
    "long_max(tweets['contador_palabras'])"
   ]
  },
  {
   "cell_type": "code",
   "execution_count": 10,
   "metadata": {},
   "outputs": [
    {
     "name": "stdout",
     "output_type": "stream",
     "text": [
      "La longitud min de los tweets es: 1 caracteres\n"
     ]
    }
   ],
   "source": [
    "# Función para saber el número mínimo de caracteres\n",
    "def long_min(self):\n",
    "    \"\"\"\n",
    "    Método para obtener la media de la longitud de los tweets\n",
    "    :return: valor medio del total de palabras\n",
    "    \"\"\"\n",
    "    mini = np.min(tweets['contador_palabras'])\n",
    "    print('La longitud min de los tweets es: {:.0f} caracteres'\n",
    "          .format(mini))\n",
    "long_min(tweets['contador_palabras'])"
   ]
  },
  {
   "cell_type": "code",
   "execution_count": 11,
   "metadata": {},
   "outputs": [
    {
     "name": "stdout",
     "output_type": "stream",
     "text": [
      "La longitud media de los tweets es: 17 caracteres\n"
     ]
    }
   ],
   "source": [
    "# Función para saber el número medio de caracteres\n",
    "def long_media(self):\n",
    "    \"\"\"\n",
    "    Método para obtener la media de la longitud de los tweets\n",
    "    :return: valor medio del total de palabras\n",
    "    \"\"\"\n",
    "    media = np.mean(tweets['contador_palabras'])\n",
    "    print('La longitud media de los tweets es: {:.0f} caracteres'\n",
    "          .format(media))\n",
    "long_media(tweets['contador_palabras'])"
   ]
  },
  {
   "cell_type": "code",
   "execution_count": 16,
   "metadata": {},
   "outputs": [
    {
     "data": {
      "text/html": [
       "<div>\n",
       "<style>\n",
       "    .dataframe thead tr:only-child th {\n",
       "        text-align: right;\n",
       "    }\n",
       "\n",
       "    .dataframe thead th {\n",
       "        text-align: left;\n",
       "    }\n",
       "\n",
       "    .dataframe tbody tr th {\n",
       "        vertical-align: top;\n",
       "    }\n",
       "</style>\n",
       "<table border=\"1\" class=\"dataframe\">\n",
       "  <thead>\n",
       "    <tr style=\"text-align: right;\">\n",
       "      <th>hour</th>\n",
       "      <th>5</th>\n",
       "      <th>3</th>\n",
       "      <th>6</th>\n",
       "      <th>4</th>\n",
       "      <th>0</th>\n",
       "      <th>2</th>\n",
       "      <th>1</th>\n",
       "      <th>7</th>\n",
       "      <th>23</th>\n",
       "    </tr>\n",
       "  </thead>\n",
       "  <tbody>\n",
       "    <tr>\n",
       "      <th>texto</th>\n",
       "      <td>7571</td>\n",
       "      <td>7450</td>\n",
       "      <td>7147</td>\n",
       "      <td>7094</td>\n",
       "      <td>7075</td>\n",
       "      <td>6836</td>\n",
       "      <td>6559</td>\n",
       "      <td>5673</td>\n",
       "      <td>2115</td>\n",
       "    </tr>\n",
       "  </tbody>\n",
       "</table>\n",
       "</div>"
      ],
      "text/plain": [
       "hour     5     3     6     4     0     2     1     7     23\n",
       "texto  7571  7450  7147  7094  7075  6836  6559  5673  2115"
      ]
     },
     "execution_count": 16,
     "metadata": {},
     "output_type": "execute_result"
    }
   ],
   "source": [
    "#Vemos el número de tweets obtenido por cada hora \n",
    "counts = tweets[['hour', 'texto']].groupby('hour').agg('count')\n",
    "counts_sorted = counts.sort_values(by='texto', ascending=False)\n",
    "counts_sorted.transpose()"
   ]
  },
  {
   "cell_type": "code",
   "execution_count": 17,
   "metadata": {},
   "outputs": [
    {
     "name": "stdout",
     "output_type": "stream",
     "text": [
      "True     0.697253\n",
      "False    0.302747\n",
      "Name: RT, dtype: float64\n"
     ]
    },
    {
     "data": {
      "image/png": "[encoded data removed]",
      "text/plain": [
       "<matplotlib.figure.Figure at 0x117838a58>"
      ]
     },
     "metadata": {},
     "output_type": "display_data"
    }
   ],
   "source": [
    "#Se hace una pequeña comparación para ver el número de Rts que hubo\n",
    "sns.countplot(tweets.RT, label=\"Count\")\n",
    "print(tweets.RT.value_counts(normalize=True))"
   ]
  },
  {
   "cell_type": "code",
   "execution_count": 18,
   "metadata": {},
   "outputs": [
    {
     "data": {
      "image/png": "[encoded data removed]",
      "text/plain": [
       "<matplotlib.figure.Figure at 0x12035b860>"
      ]
     },
     "metadata": {},
     "output_type": "display_data"
    }
   ],
   "source": [
    "#Se hace un pequeño estudio sobre cual ha sido la distribución por el número de caracteres\n",
    "plt.suptitle('Frecuencia por caracteres')\n",
    "hist_chars = tweets.contador_caracteres.hist(bins=28)"
   ]
  },
  {
   "cell_type": "code",
   "execution_count": 19,
   "metadata": {},
   "outputs": [
    {
     "name": "stdout",
     "output_type": "stream",
     "text": [
      "---           0.783049\n",
      "Bitcoin       0.143724\n",
      "Blockchain    0.049896\n",
      "Ethereum      0.016499\n",
      "Stocks        0.005772\n",
      "Coinbase      0.001061\n",
      "Name: hashtag, dtype: float64\n"
     ]
    },
    {
     "data": {
      "image/png": "[encoded data removed]",
      "text/plain": [
       "<matplotlib.figure.Figure at 0x120481c50>"
      ]
     },
     "metadata": {},
     "output_type": "display_data"
    }
   ],
   "source": [
    "#Se estudia ahora la distribución de los hashtags dentro de los tweets\n",
    "sns.countplot(tweets.hashtag,label=\"Count\", order = tweets.hashtag.value_counts().index) \n",
    "print(tweets.hashtag.value_counts(normalize=True))"
   ]
  },
  {
   "cell_type": "code",
   "execution_count": 20,
   "metadata": {},
   "outputs": [
    {
     "data": {
      "text/html": [
       "<div>\n",
       "<style>\n",
       "    .dataframe thead tr:only-child th {\n",
       "        text-align: right;\n",
       "    }\n",
       "\n",
       "    .dataframe thead th {\n",
       "        text-align: left;\n",
       "    }\n",
       "\n",
       "    .dataframe tbody tr th {\n",
       "        vertical-align: top;\n",
       "    }\n",
       "</style>\n",
       "<table border=\"1\" class=\"dataframe\">\n",
       "  <thead>\n",
       "    <tr style=\"text-align: right;\">\n",
       "      <th>dispositivo</th>\n",
       "      <th>iPhone</th>\n",
       "      <th>Otros</th>\n",
       "      <th>Cliente Web</th>\n",
       "      <th>Android</th>\n",
       "      <th>IFTTT</th>\n",
       "      <th>Movil/Ipad</th>\n",
       "      <th>Paper.li</th>\n",
       "      <th>BlackBerry</th>\n",
       "      <th>Mac</th>\n",
       "    </tr>\n",
       "  </thead>\n",
       "  <tbody>\n",
       "    <tr>\n",
       "      <th>contador_caracteres</th>\n",
       "      <td>158</td>\n",
       "      <td>157</td>\n",
       "      <td>152</td>\n",
       "      <td>150</td>\n",
       "      <td>148</td>\n",
       "      <td>148</td>\n",
       "      <td>141</td>\n",
       "      <td>140</td>\n",
       "      <td>140</td>\n",
       "    </tr>\n",
       "  </tbody>\n",
       "</table>\n",
       "</div>"
      ],
      "text/plain": [
       "dispositivo          iPhone  Otros  Cliente Web  Android  IFTTT  Movil/Ipad  \\\n",
       "contador_caracteres     158    157          152      150    148         148   \n",
       "\n",
       "dispositivo          Paper.li  BlackBerry  Mac  \n",
       "contador_caracteres       141         140  140  "
      ]
     },
     "execution_count": 20,
     "metadata": {},
     "output_type": "execute_result"
    }
   ],
   "source": [
    "#Se desempeña otro estudio con la finalidad de obtener desde que plataformas se han generado los tweets más largos\n",
    "counts = tweets[['dispositivo', 'contador_caracteres']].groupby('dispositivo').agg('max')\n",
    "counts_sorted = counts.sort_values(by='contador_caracteres', ascending=False)\n",
    "counts_sorted.transpose()"
   ]
  },
  {
   "cell_type": "code",
   "execution_count": 22,
   "metadata": {},
   "outputs": [
    {
     "data": {
      "text/html": [
       "<div>\n",
       "<style>\n",
       "    .dataframe thead tr:only-child th {\n",
       "        text-align: right;\n",
       "    }\n",
       "\n",
       "    .dataframe thead th {\n",
       "        text-align: left;\n",
       "    }\n",
       "\n",
       "    .dataframe tbody tr th {\n",
       "        vertical-align: top;\n",
       "    }\n",
       "</style>\n",
       "<table border=\"1\" class=\"dataframe\">\n",
       "  <thead>\n",
       "    <tr style=\"text-align: right;\">\n",
       "      <th>dispositivo</th>\n",
       "      <th>Cliente Web</th>\n",
       "      <th>Otros</th>\n",
       "      <th>Android</th>\n",
       "      <th>iPhone</th>\n",
       "      <th>IFTTT</th>\n",
       "      <th>Movil/Ipad</th>\n",
       "      <th>Paper.li</th>\n",
       "      <th>Mac</th>\n",
       "      <th>BlackBerry</th>\n",
       "    </tr>\n",
       "  </thead>\n",
       "  <tbody>\n",
       "    <tr>\n",
       "      <th>contador_caracteres</th>\n",
       "      <td>24275</td>\n",
       "      <td>11537</td>\n",
       "      <td>9826</td>\n",
       "      <td>6277</td>\n",
       "      <td>3812</td>\n",
       "      <td>1418</td>\n",
       "      <td>349</td>\n",
       "      <td>19</td>\n",
       "      <td>7</td>\n",
       "    </tr>\n",
       "  </tbody>\n",
       "</table>\n",
       "</div>"
      ],
      "text/plain": [
       "dispositivo          Cliente Web  Otros  Android  iPhone  IFTTT  Movil/Ipad  \\\n",
       "contador_caracteres        24275  11537     9826    6277   3812        1418   \n",
       "\n",
       "dispositivo          Paper.li  Mac  BlackBerry  \n",
       "contador_caracteres       349   19           7  "
      ]
     },
     "execution_count": 22,
     "metadata": {},
     "output_type": "execute_result"
    }
   ],
   "source": [
    "#Se visualiza desde que plataformas se han generado el número máximo de tweets\n",
    "counts = tweets[['dispositivo', 'contador_caracteres']].groupby('dispositivo').agg('count')\n",
    "counts_sorted = counts.sort_values(by='contador_caracteres', ascending=False)\n",
    "counts_sorted.transpose()"
   ]
  },
  {
   "cell_type": "code",
   "execution_count": 23,
   "metadata": {},
   "outputs": [
    {
     "data": {
      "text/plain": [
       "<matplotlib.axes._subplots.AxesSubplot at 0x1205a3f98>"
      ]
     },
     "execution_count": 23,
     "metadata": {},
     "output_type": "execute_result"
    },
    {
     "data": {
      "image/png": "[encoded data removed]",
      "text/plain": [
       "<matplotlib.figure.Figure at 0x1205914e0>"
      ]
     },
     "metadata": {},
     "output_type": "display_data"
    }
   ],
   "source": [
    "sns.countplot(tweets.dispositivo)"
   ]
  },
  {
   "cell_type": "code",
   "execution_count": null,
   "metadata": {
    "collapsed": true
   },
   "outputs": [],
   "source": []
  }
 ],
 "metadata": {
  "kernelspec": {
   "display_name": "Python 3",
   "language": "python",
   "name": "python3"
  },
  "language_info": {
   "codemirror_mode": {
    "name": "ipython",
    "version": 3
   },
   "file_extension": ".py",
   "mimetype": "text/x-python",
   "name": "python",
   "nbconvert_exporter": "python",
   "pygments_lexer": "ipython3",
   "version": "3.6.1"
  }
 },
 "nbformat": 4,
 "nbformat_minor": 2
}
